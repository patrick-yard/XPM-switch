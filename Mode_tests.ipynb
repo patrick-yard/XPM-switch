{
 "cells": [
  {
   "cell_type": "code",
   "execution_count": 3,
   "metadata": {},
   "outputs": [
    {
     "name": "stdout",
     "output_type": "stream",
     "text": [
      "The autoreload extension is already loaded. To reload it, use:\n",
      "  %reload_ext autoreload\n"
     ]
    }
   ],
   "source": [
    "%load_ext autoreload\n",
    "%autoreload 2"
   ]
  },
  {
   "cell_type": "code",
   "execution_count": 5,
   "metadata": {},
   "outputs": [],
   "source": [
    "import numpy as np\n",
    "import matplotlib.pyplot as plt\n",
    "from mode_solutions import Solver\n",
    "from waveguide import Waveguide\n",
    "from scipy.constants import c"
   ]
  },
  {
   "cell_type": "markdown",
   "metadata": {},
   "source": [
    "# Test notebook for using Lumerical in python "
   ]
  },
  {
   "cell_type": "markdown",
   "metadata": {},
   "source": [
    "### Simulation parameters"
   ]
  },
  {
   "cell_type": "code",
   "execution_count": 6,
   "metadata": {},
   "outputs": [],
   "source": [
    "material_parameters = {\n",
    "'width': 2e-6,\n",
    "'height':330e-9,\n",
    "'top_cladding_thickness': 0.75e-6,\n",
    "'bottom_cladding_thickness':3.3e-6,\n",
    "'Mode_resolution':100,\n",
    "'material_wg': \"SiN (Silicon Nitride) - MuensterSpecs\",\n",
    "'material_clad': \"HSQ - Munster spec\"\n",
    "}\n",
    "\n",
    "# material_parameters = {\n",
    "# 'width': 2e-6,\n",
    "# 'height':220e-9,\n",
    "# 'top_cladding_thickness': 2e-6,\n",
    "# 'bottom_cladding_thickness':3e-6,\n",
    "# 'Mode_resolution':250,\n",
    "# 'material_wg': \"Si (Silicon) - Palik\",\n",
    "# 'material_clad': \"SiO2 (Glass) - Palik\"\n",
    "# }\n",
    "\n",
    "start_wavelength = 1.5525e-6\n",
    "stop_wavelength = 1.5575e-6\n",
    "points = 11\n",
    "step = (stop_wavelength-start_wavelength) / (points-1)\n",
    "\n",
    "general_params = {\n",
    "\"wavelength\" : 1.55e-6,\n",
    "\"start_wavelength\":start_wavelength,\n",
    "\"stop_wavelength\":stop_wavelength,\n",
    "\"N_points_Disp\":points,\n",
    "\"d_wavelength\" :step,\n",
    "\"Lc\" : 1e-6,\n",
    "\"mesh_dx\" : 0.05e-6,\n",
    "\"mesh_dy\" : 0.05e-6,\n",
    "\"substrate_height\": 2e-6,\n",
    "\"num_TE\" : 3\n",
    "}"
   ]
  },
  {
   "cell_type": "code",
   "execution_count": null,
   "metadata": {},
   "outputs": [],
   "source": []
  },
  {
   "cell_type": "markdown",
   "metadata": {},
   "source": [
    "### Initialise mode solutions"
   ]
  },
  {
   "cell_type": "code",
   "execution_count": 4,
   "metadata": {},
   "outputs": [
    {
     "name": "stdout",
     "output_type": "stream",
     "text": [
      "Initialising MODE instance...\n",
      "Inputting simulation parameters...\n",
      "Fitting material parameters...\n",
      "Initialisation complete\n"
     ]
    }
   ],
   "source": [
    "simulation_params = dict()\n",
    "simulation_params.update(material_parameters)\n",
    "simulation_params.update(general_params)\n",
    "\n",
    "mode = Solver(simulation_params)"
   ]
  },
  {
   "cell_type": "markdown",
   "metadata": {},
   "source": [
    "# Run dispersion sweep"
   ]
  },
  {
   "cell_type": "code",
   "execution_count": 5,
   "metadata": {},
   "outputs": [
    {
     "name": "stdout",
     "output_type": "stream",
     "text": [
      "Performing frequency sweep\n",
      "Sweep complete\n",
      "3\n",
      "2\n",
      "3\n",
      "2\n",
      "3\n",
      "2\n",
      "3\n",
      "2\n"
     ]
    }
   ],
   "source": [
    "checked_params = mode.freq_sweep()\n"
   ]
  },
  {
   "cell_type": "code",
   "execution_count": 8,
   "metadata": {},
   "outputs": [
    {
     "data": {
      "image/png": "[encoded data removed]",
      "text/plain": [
       "<Figure size 432x288 with 1 Axes>"
      ]
     },
     "metadata": {
      "needs_background": "light"
     },
     "output_type": "display_data"
    },
    {
     "data": {
      "image/png": "[encoded data removed]",
      "text/plain": [
       "<Figure size 432x288 with 1 Axes>"
      ]
     },
     "metadata": {
      "needs_background": "light"
     },
     "output_type": "display_data"
    }
   ],
   "source": [
    "\n",
    "fig,ax = plt.subplots()\n",
    "ax.plot(checked_params['wav'][0]*1e6,c/checked_params['vg'][0],label = 'TE0')\n",
    "ax.plot(checked_params['wav'][0]*1e6,c/checked_params['vg'][1], label = 'TE1')\n",
    "ax.ticklabel_format(useOffset=False)\n",
    "ax.set_xlabel(r'Wavelength ($\\mu$m)')\n",
    "ax.set_ylabel(r'$n_g$')\n",
    "plt.show()\n",
    "\n",
    "fig,ax = plt.subplots()\n",
    "ax.plot(checked_params['wav'][0]*1e6,np.real(checked_params['neff'][0]),label = 'TE0')\n",
    "ax.plot(checked_params['wav'][0]*1e6,np.real(checked_params['neff'][1]), label = 'TE1')\n",
    "ax.ticklabel_format(useOffset=False)\n",
    "ax.set_xlabel(r'Wavelength ($\\mu$m)')\n",
    "ax.set_ylabel(r'$n_{eff}$')\n",
    "plt.show()"
   ]
  },
  {
   "cell_type": "markdown",
   "metadata": {},
   "source": [
    "# Test Waveguide class"
   ]
  },
  {
   "cell_type": "code",
   "execution_count": 19,
   "metadata": {},
   "outputs": [
    {
     "name": "stdout",
     "output_type": "stream",
     "text": [
      "Initialising MODE instance...\n"
     ]
    },
    {
     "name": "stderr",
     "output_type": "stream",
     "text": [
      "Exception ignored in: <function Lumerical.__del__ at 0x00000125383098C8>\n",
      "Traceback (most recent call last):\n",
      "  File \"C:\\Program Files\\Lumerical\\v212\\api\\python\\lumapi.py\", line 1174, in __del__\n",
      "    close(self.handle)\n",
      "AttributeError: 'MODE' object has no attribute 'handle'\n"
     ]
    },
    {
     "name": "stdout",
     "output_type": "stream",
     "text": [
      "Inputting simulation parameters...\n",
      "Fitting material parameters...\n",
      "Initialisation complete\n"
     ]
    }
   ],
   "source": [
    "extra_params = ('TE',False,False)\n",
    "wg = Waveguide(material_parameters,general_params,*extra_params)"
   ]
  },
  {
   "cell_type": "code",
   "execution_count": 20,
   "metadata": {},
   "outputs": [
    {
     "name": "stdout",
     "output_type": "stream",
     "text": [
      "Performing frequency sweep\n",
      "Sweep complete\n",
      "(3, 11)\n",
      "(3, 11)\n",
      "(3, 1)\n",
      "(3, 11)\n"
     ]
    },
    {
     "name": "stderr",
     "output_type": "stream",
     "text": [
      "C:\\ProgramData\\Anaconda3\\lib\\site-packages\\numpy\\core\\numeric.py:538: ComplexWarning: Casting complex values to real discards the imaginary part\n",
      "  return array(a, dtype, copy=False, order=order)\n"
     ]
    },
    {
     "data": {
      "image/png": "[encoded data removed]",
      "text/plain": [
       "<Figure size 1080x360 with 3 Axes>"
      ]
     },
     "metadata": {
      "needs_background": "light"
     },
     "output_type": "display_data"
    },
    {
     "data": {
      "text/plain": [
       "{'neff': array([[1.64501142-3.45020067e-17j, 1.64490729-3.45150382e-17j,\n",
       "         1.64480312-3.45280239e-17j, 1.64469891-3.45409637e-17j,\n",
       "         1.64459466-3.45538576e-17j, 1.64449037-3.45667058e-17j,\n",
       "         1.64438603-3.45795081e-17j, 1.64428166-3.45922646e-17j,\n",
       "         1.64417725-3.46049754e-17j, 1.64407279-3.46176404e-17j,\n",
       "         1.6439683 -3.46302597e-17j],\n",
       "        [1.54340131-2.80879396e-17j, 1.54324817-2.79873048e-17j,\n",
       "         1.54309498-2.78836338e-17j, 1.54294175-2.77768355e-17j,\n",
       "         1.54278847-2.76668158e-17j, 1.54263514-2.75534773e-17j,\n",
       "         1.54248177-2.74367195e-17j, 1.54232835-2.73164384e-17j,\n",
       "         1.54217489-2.71925264e-17j, 1.54202139-2.70648723e-17j,\n",
       "         1.54186783-2.69333611e-17j]]),\n",
       " 'vg': array([[1.52312775e+08, 1.52319109e+08, 1.52325447e+08, 1.52331791e+08,\n",
       "         1.52338140e+08, 1.52344495e+08, 1.52350854e+08, 1.52357219e+08,\n",
       "         1.52363590e+08, 1.52369965e+08, 1.52376346e+08],\n",
       "        [1.48497649e+08, 1.48509601e+08, 1.48521611e+08, 1.48533681e+08,\n",
       "         1.48545811e+08, 1.48558001e+08, 1.48570254e+08, 1.48582569e+08,\n",
       "         1.48594947e+08, 1.48607390e+08, 1.48619898e+08]]),\n",
       " 'is_TE': array([[0.99920694],\n",
       "        [0.98153937]]),\n",
       " 'D': array([[-0.00054736, -0.00054759, -0.00054764, -0.0005477 , -0.00054776,\n",
       "         -0.00054781, -0.00054787, -0.00054792, -0.00054798, -0.00054804,\n",
       "         -0.0005481 ],\n",
       "        [-0.00108462, -0.00108928, -0.00109375, -0.00109828, -0.00110288,\n",
       "         -0.00110754, -0.00111227, -0.00111707, -0.00112194, -0.00112688,\n",
       "         -0.00113189]]),\n",
       " 'wav': array([[1.54750000e-06, 1.54799855e-06, 1.54849742e-06, 1.54899662e-06,\n",
       "         1.54949613e-06, 1.54999597e-06, 1.55049613e-06, 1.55099661e-06,\n",
       "         1.55149742e-06, 1.55199855e-06, 1.55250000e-06]]),\n",
       " 'f': array([[1.93726952e+14, 1.93664560e+14, 1.93602168e+14, 1.93539776e+14,\n",
       "         1.93477384e+14, 1.93414992e+14, 1.93352600e+14, 1.93290208e+14,\n",
       "         1.93227816e+14, 1.93165424e+14, 1.93103033e+14]])}"
      ]
     },
     "execution_count": 20,
     "metadata": {},
     "output_type": "execute_result"
    }
   ],
   "source": [
    "'''Dispersion data'''\n",
    "\n",
    "wg.get_dispersion_info()\n",
    "# wg.plot_dispersion_data()"
   ]
  },
  {
   "cell_type": "code",
   "execution_count": 26,
   "metadata": {},
   "outputs": [
    {
     "name": "stdout",
     "output_type": "stream",
     "text": [
      "Getting mode info...\n"
     ]
    },
    {
     "data": {
      "image/png": "[encoded data removed]",
      "text/plain": [
       "<Figure size 432x288 with 3 Axes>"
      ]
     },
     "metadata": {
      "needs_background": "light"
     },
     "output_type": "display_data"
    },
    {
     "data": {
      "text/plain": [
       "{'neff': array([[1.64501138-3.75934229e-17j],\n",
       "        [1.54340127-2.61237717e-17j]]), 'is_TE': array([[0.99920694],\n",
       "        [0.98153937]]), 'x_array': array([-4.50000000e-06, -4.41153846e-06, -4.32307692e-06, -4.23461538e-06,\n",
       "        -4.14615385e-06, -4.05769231e-06, -3.96923077e-06, -3.88076923e-06,\n",
       "        -3.79230769e-06, -3.70384615e-06, -3.61538462e-06, -3.52692308e-06,\n",
       "        -3.43846154e-06, -3.35000000e-06, -3.26153846e-06, -3.17307692e-06,\n",
       "        -3.08461538e-06, -2.99615385e-06, -2.90769231e-06, -2.81923077e-06,\n",
       "        -2.73076923e-06, -2.64230769e-06, -2.55384615e-06, -2.46538462e-06,\n",
       "        -2.37692308e-06, -2.28846154e-06, -2.20000000e-06, -2.11153846e-06,\n",
       "        -2.02307692e-06, -1.93461538e-06, -1.84615385e-06, -1.75769231e-06,\n",
       "        -1.66923077e-06, -1.58076923e-06, -1.49230769e-06, -1.40384615e-06,\n",
       "        -1.31538462e-06, -1.23868232e-06, -1.17217610e-06, -1.10766551e-06,\n",
       "        -1.05000000e-06, -1.00000000e-06, -9.50000000e-07, -9.00000000e-07,\n",
       "        -8.50000000e-07, -8.00000000e-07, -7.50000000e-07, -7.00000000e-07,\n",
       "        -6.50000000e-07, -6.00000000e-07, -5.50000000e-07, -5.00000000e-07,\n",
       "        -4.50000000e-07, -4.00000000e-07, -3.50000000e-07, -3.00000000e-07,\n",
       "        -2.50000000e-07, -2.00000000e-07, -1.50000000e-07, -1.00000000e-07,\n",
       "        -5.00000000e-08, -5.29395592e-22,  5.00000000e-08,  1.00000000e-07,\n",
       "         1.50000000e-07,  2.00000000e-07,  2.50000000e-07,  3.00000000e-07,\n",
       "         3.50000000e-07,  4.00000000e-07,  4.50000000e-07,  5.00000000e-07,\n",
       "         5.50000000e-07,  6.00000000e-07,  6.50000000e-07,  7.00000000e-07,\n",
       "         7.50000000e-07,  8.00000000e-07,  8.50000000e-07,  9.00000000e-07,\n",
       "         9.50000000e-07,  1.00000000e-06,  1.05000000e-06,  1.10766551e-06,\n",
       "         1.17217610e-06,  1.23868232e-06,  1.31538462e-06,  1.40384615e-06,\n",
       "         1.49230769e-06,  1.58076923e-06,  1.66923077e-06,  1.75769231e-06,\n",
       "         1.84615385e-06,  1.93461538e-06,  2.02307692e-06,  2.11153846e-06,\n",
       "         2.20000000e-06,  2.28846154e-06,  2.37692308e-06,  2.46538462e-06,\n",
       "         2.55384615e-06,  2.64230769e-06,  2.73076923e-06,  2.81923077e-06,\n",
       "         2.90769231e-06,  2.99615385e-06,  3.08461538e-06,  3.17307692e-06,\n",
       "         3.26153846e-06,  3.35000000e-06,  3.43846154e-06,  3.52692308e-06,\n",
       "         3.61538462e-06,  3.70384615e-06,  3.79230769e-06,  3.88076923e-06,\n",
       "         3.96923077e-06,  4.05769231e-06,  4.14615385e-06,  4.23461538e-06,\n",
       "         4.32307692e-06,  4.41153846e-06,  4.50000000e-06]), 'y_array': array([-3.51500000e-06, -3.45292453e-06, -3.39084906e-06, -3.32877358e-06,\n",
       "        -3.26669811e-06, -3.20462264e-06, -3.14254717e-06, -3.08047170e-06,\n",
       "        -3.01839623e-06, -2.95632075e-06, -2.89424528e-06, -2.83216981e-06,\n",
       "        -2.77009434e-06, -2.70801887e-06, -2.64594340e-06, -2.58386792e-06,\n",
       "        -2.52179245e-06, -2.45971698e-06, -2.39764151e-06, -2.33556604e-06,\n",
       "        -2.27349057e-06, -2.21141509e-06, -2.14933962e-06, -2.08726415e-06,\n",
       "        -2.02518868e-06, -1.96311321e-06, -1.90103774e-06, -1.83896226e-06,\n",
       "        -1.77688679e-06, -1.71481132e-06, -1.65273585e-06, -1.59066038e-06,\n",
       "        -1.52858491e-06, -1.46650943e-06, -1.40443396e-06, -1.34235849e-06,\n",
       "        -1.28028302e-06, -1.21820755e-06, -1.15613208e-06, -1.09405660e-06,\n",
       "        -1.03198113e-06, -9.69905660e-07, -9.07830189e-07, -8.45754717e-07,\n",
       "        -7.83679245e-07, -7.21603774e-07, -6.59528302e-07, -5.97452830e-07,\n",
       "        -5.35377358e-07, -4.73301887e-07, -4.11226415e-07, -3.49150943e-07,\n",
       "        -2.87075472e-07, -2.25000000e-07, -1.75000000e-07, -1.25000000e-07,\n",
       "        -7.50000000e-08, -2.50000000e-08,  2.50000000e-08,  7.50000000e-08,\n",
       "         1.25000000e-07,  1.75000000e-07,  2.25000000e-07,  2.87439024e-07,\n",
       "         3.49878049e-07,  4.12317073e-07,  4.74756098e-07,  5.37195122e-07,\n",
       "         5.99634146e-07,  6.62073171e-07,  7.24512195e-07,  7.86951220e-07,\n",
       "         8.49390244e-07,  9.11829268e-07,  9.74268293e-07,  1.03670732e-06,\n",
       "         1.09914634e-06,  1.16158537e-06,  1.22402439e-06,  1.28646341e-06,\n",
       "         1.34890244e-06,  1.41134146e-06,  1.47378049e-06,  1.53621951e-06,\n",
       "         1.59865854e-06,  1.66109756e-06,  1.72353659e-06,  1.78597561e-06,\n",
       "         1.84841463e-06,  1.91085366e-06,  1.97329268e-06,  2.03573171e-06,\n",
       "         2.09817073e-06,  2.16060976e-06,  2.22304878e-06,  2.28548780e-06,\n",
       "         2.34792683e-06,  2.41036585e-06,  2.47280488e-06,  2.53524390e-06,\n",
       "         2.59768293e-06,  2.66012195e-06,  2.72256098e-06,  2.78500000e-06]), 'index_profile': array([[3.47573193+7.49396543e-10j, 3.47573193+7.49396543e-10j,\n",
       "         3.47573193+7.49396543e-10j, ..., 3.47573193+7.49396543e-10j,\n",
       "         3.47573193+7.49396543e-10j, 3.47573193+7.49396543e-10j],\n",
       "        [2.27741741+3.54549615e-10j, 2.27741741+3.54549615e-10j,\n",
       "         2.27741741+3.54549615e-10j, ..., 2.27741741+3.54549615e-10j,\n",
       "         2.27741741+3.54549615e-10j, 2.27741741+3.54549615e-10j],\n",
       "        [1.44543719+0.00000000e+00j, 1.44543719+0.00000000e+00j,\n",
       "         1.44543719+0.00000000e+00j, ..., 1.44543719+0.00000000e+00j,\n",
       "         1.44543719+0.00000000e+00j, 1.44543719+0.00000000e+00j],\n",
       "        ...,\n",
       "        [1.        +0.00000000e+00j, 1.        +0.00000000e+00j,\n",
       "         1.        +0.00000000e+00j, ..., 1.        +0.00000000e+00j,\n",
       "         1.        +0.00000000e+00j, 1.        +0.00000000e+00j],\n",
       "        [1.        +0.00000000e+00j, 1.        +0.00000000e+00j,\n",
       "         1.        +0.00000000e+00j, ..., 1.        +0.00000000e+00j,\n",
       "         1.        +0.00000000e+00j, 1.        +0.00000000e+00j],\n",
       "        [1.        +0.00000000e+00j, 1.        +0.00000000e+00j,\n",
       "         1.        +0.00000000e+00j, ..., 1.        +0.00000000e+00j,\n",
       "         1.        +0.00000000e+00j, 1.        +0.00000000e+00j]]), 'E_field': array([[[ 0.00000000e+00+0.00000000e+00j,\n",
       "           7.93679885e-09+4.00460293e-16j,\n",
       "           1.57248850e-08+5.02214318e-16j, ...,\n",
       "           7.15881834e-11-6.66347382e-18j,\n",
       "           3.47871415e-11-2.26780922e-18j,\n",
       "           0.00000000e+00+0.00000000e+00j],\n",
       "         [ 0.00000000e+00+0.00000000e+00j,\n",
       "           8.15613700e-09+4.32217466e-16j,\n",
       "           1.61459076e-08+5.44741470e-16j, ...,\n",
       "           7.53119331e-11-2.94360786e-18j,\n",
       "           3.65941538e-11+3.00047832e-18j,\n",
       "           0.00000000e+00+0.00000000e+00j],\n",
       "         [ 0.00000000e+00+0.00000000e+00j,\n",
       "           8.82391499e-09+4.01074435e-16j,\n",
       "           1.74272247e-08+5.42082304e-16j, ...,\n",
       "           8.68498464e-11+1.31132080e-17j,\n",
       "           4.21926164e-11+4.48373791e-18j,\n",
       "           0.00000000e+00+0.00000000e+00j],\n",
       "         ...,\n",
       "         [ 0.00000000e+00+0.00000000e+00j,\n",
       "           8.82391525e-09-1.79607807e-16j,\n",
       "           1.74272250e-08-1.89235179e-16j, ...,\n",
       "           8.68497839e-11-1.62766305e-17j,\n",
       "           4.21925605e-11-1.92358419e-17j,\n",
       "           0.00000000e+00+0.00000000e+00j],\n",
       "         [ 0.00000000e+00+0.00000000e+00j,\n",
       "           8.15613724e-09-1.75132823e-16j,\n",
       "           1.61459078e-08-1.89753576e-16j, ...,\n",
       "           7.53118910e-11-4.13853111e-17j,\n",
       "           3.65941205e-11-2.95050981e-17j,\n",
       "           0.00000000e+00+0.00000000e+00j],\n",
       "         [ 0.00000000e+00+0.00000000e+00j,\n",
       "           7.93679908e-09-1.33298486e-16j,\n",
       "           1.57248851e-08-1.80121104e-16j, ...,\n",
       "           7.15881137e-11-4.87328076e-17j,\n",
       "           3.47871129e-11-3.01950696e-17j,\n",
       "           0.00000000e+00+0.00000000e+00j]],\n",
       " \n",
       "        [[ 0.00000000e+00+0.00000000e+00j,\n",
       "          -2.18694522e-08-3.29058901e-16j,\n",
       "           1.20140581e-06-1.98992429e-16j, ...,\n",
       "           2.74093700e-09+2.88298610e-18j,\n",
       "           1.33215420e-09-4.79554440e-17j,\n",
       "           0.00000000e+00+0.00000000e+00j],\n",
       "         [ 0.00000000e+00+0.00000000e+00j,\n",
       "          -1.20480974e-08-3.55860667e-16j,\n",
       "           1.22605026e-06-3.23445124e-16j, ...,\n",
       "           2.82707345e-09-3.73574026e-17j,\n",
       "           1.37400790e-09-5.72918350e-17j,\n",
       "           0.00000000e+00+0.00000000e+00j],\n",
       "         [ 0.00000000e+00+0.00000000e+00j,\n",
       "           1.76860682e-08-3.71294956e-16j,\n",
       "           1.30049336e-06-4.21423321e-16j, ...,\n",
       "           3.09081692e-09-7.96912751e-17j,\n",
       "           1.50215575e-09-2.42045373e-17j,\n",
       "           0.00000000e+00+0.00000000e+00j],\n",
       "         ...,\n",
       "         [ 0.00000000e+00+0.00000000e+00j,\n",
       "          -1.76860693e-08+8.98781336e-16j,\n",
       "          -1.30049336e-06+8.86177510e-16j, ...,\n",
       "          -3.09081706e-09+6.85402122e-17j,\n",
       "          -1.50215578e-09+2.53956866e-17j,\n",
       "           0.00000000e+00+0.00000000e+00j],\n",
       "         [ 0.00000000e+00+0.00000000e+00j,\n",
       "           1.20480963e-08+8.31917843e-16j,\n",
       "          -1.22605026e-06+8.34063393e-16j, ...,\n",
       "          -2.82707357e-09+7.71844720e-17j,\n",
       "          -1.37400794e-09+3.22749539e-17j,\n",
       "           0.00000000e+00+0.00000000e+00j],\n",
       "         [ 0.00000000e+00+0.00000000e+00j,\n",
       "           2.18694511e-08+7.75093419e-16j,\n",
       "          -1.20140581e-06+8.06711401e-16j, ...,\n",
       "          -2.74093705e-09+6.53759738e-17j,\n",
       "          -1.33215424e-09+9.87845037e-18j,\n",
       "           0.00000000e+00+0.00000000e+00j]]])}"
      ]
     },
     "execution_count": 26,
     "metadata": {},
     "output_type": "execute_result"
    }
   ],
   "source": [
    "'''plot mode profiles'''\n",
    "wg.get_mode_profile()"
   ]
  },
  {
   "cell_type": "code",
   "execution_count": null,
   "metadata": {},
   "outputs": [],
   "source": []
  }
 ],
 "metadata": {
  "interpreter": {
   "hash": "b3ba2566441a7c06988d0923437866b63cedc61552a5af99d1f4fb67d367b25f"
  },
  "kernelspec": {
   "display_name": "Python 3.7.3 ('base')",
   "language": "python",
   "name": "python3"
  },
  "language_info": {
   "codemirror_mode": {
    "name": "ipython",
    "version": 3
   },
   "file_extension": ".py",
   "mimetype": "text/x-python",
   "name": "python",
   "nbconvert_exporter": "python",
   "pygments_lexer": "ipython3",
   "version": "3.7.3"
  },
  "orig_nbformat": 4
 },
 "nbformat": 4,
 "nbformat_minor": 2
}
