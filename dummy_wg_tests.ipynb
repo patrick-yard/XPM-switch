{
 "cells": [
  {
   "cell_type": "code",
   "execution_count": 1,
   "metadata": {},
   "outputs": [],
   "source": [
    "%load_ext autoreload\n",
    "%autoreload 2"
   ]
  },
  {
   "cell_type": "code",
   "execution_count": 7,
   "metadata": {},
   "outputs": [],
   "source": [
    "import numpy as np\n",
    "import matplotlib.pyplot as plt\n",
    "# from mode_solutions import Solver\n",
    "# from waveguide import Waveguide,DummyWaveguide\n",
    "from dummy_wg import DummyWaveguide\n",
    "# import pandas as pd\n",
    "from propagator import Propagator\n",
    "# from scipy.constants import c"
   ]
  },
  {
   "cell_type": "code",
   "execution_count": 5,
   "metadata": {},
   "outputs": [],
   "source": [
    "folder = \"LumericalDataCurrent\"\n",
    "wg = DummyWaveguide(folder)"
   ]
  },
  {
   "cell_type": "code",
   "execution_count": 8,
   "metadata": {},
   "outputs": [],
   "source": [
    "start_wavelength = wg.simulation_parameters['start_wavelength']\n",
    "stop_wavelength = wg.simulation_parameters['stop_wavelength']\n",
    "\n",
    "pump_params = {'mode_idx':1,\n",
    "               'lambda0':start_wavelength,\n",
    "               'dt':3.87e-12,\n",
    "               'power':20/50e-6}\n",
    "\n",
    "signal_params = {'mode_idx':0,\n",
    "               'lambda0':stop_wavelength,\n",
    "               'dt':6.18e-12,\n",
    "               'power':0.5/50e-6}\n",
    "\n",
    "n2 = 2.4e-19\n",
    "length = 0.03 \n",
    "\n",
    "\n",
    "    \n",
    "Prop = Propagator(wg,\n",
    "                  pump_params,\n",
    "                  signal_params,\n",
    "                  length,\n",
    "                  n2)\n"
   ]
  },
  {
   "cell_type": "code",
   "execution_count": 12,
   "metadata": {},
   "outputs": [],
   "source": []
  },
  {
   "cell_type": "code",
   "execution_count": null,
   "metadata": {},
   "outputs": [],
   "source": []
  },
  {
   "cell_type": "code",
   "execution_count": null,
   "metadata": {},
   "outputs": [],
   "source": []
  },
  {
   "cell_type": "code",
   "execution_count": null,
   "metadata": {},
   "outputs": [],
   "source": []
  }
 ],
 "metadata": {
  "kernelspec": {
   "display_name": "Python 3 (ipykernel)",
   "language": "python",
   "name": "python3"
  },
  "language_info": {
   "codemirror_mode": {
    "name": "ipython",
    "version": 3
   },
   "file_extension": ".py",
   "mimetype": "text/x-python",
   "name": "python",
   "nbconvert_exporter": "python",
   "pygments_lexer": "ipython3",
   "version": "3.9.7"
  },
  "vscode": {
   "interpreter": {
    "hash": "241de856f92146b08ea7ac0ed76f804c17fa5258aee6ec6d6d814df6e7318e03"
   }
  }
 },
 "nbformat": 4,
 "nbformat_minor": 4
}
